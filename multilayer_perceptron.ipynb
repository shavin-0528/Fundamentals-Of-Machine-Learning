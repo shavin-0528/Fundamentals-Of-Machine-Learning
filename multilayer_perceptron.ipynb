{
  "nbformat": 4,
  "nbformat_minor": 0,
  "metadata": {
    "colab": {
      "provenance": []
    },
    "kernelspec": {
      "name": "python3",
      "display_name": "Python 3"
    },
    "language_info": {
      "name": "python"
    }
  },
  "cells": [
    {
      "cell_type": "code",
      "execution_count": null,
      "metadata": {
        "id": "E0mscnUgTxwO"
      },
      "outputs": [],
      "source": [
        "import pandas as pd\n",
        "import numpy as np\n",
        "from sklearn.model_selection import train_test_split\n",
        "from sklearn.neural_network import MLPClassifier\n",
        "from sklearn.metrics import confusion_matrix, accuracy_score, precision_score, recall_score, f1_score\n",
        "import matplotlib.pyplot as plt\n"
      ]
    },
    {
      "cell_type": "code",
      "source": [
        "data = pd.read_csv(\"/BankNote_Authentication.csv\")\n",
        "print(data.head())\n"
      ],
      "metadata": {
        "colab": {
          "base_uri": "https://localhost:8080/"
        },
        "id": "uQ61JnntVTew",
        "outputId": "4a4395d1-6ac5-4d99-e134-83be9eb65c73"
      },
      "execution_count": null,
      "outputs": [
        {
          "output_type": "stream",
          "name": "stdout",
          "text": [
            "   variance  skewness  curtosis  entropy  class\n",
            "0   3.62160    8.6661   -2.8073 -0.44699      0\n",
            "1   4.54590    8.1674   -2.4586 -1.46210      0\n",
            "2   3.86600   -2.6383    1.9242  0.10645      0\n",
            "3   3.45660    9.5228   -4.0112 -3.59440      0\n",
            "4   0.32924   -4.4552    4.5718 -0.98880      0\n"
          ]
        }
      ]
    },
    {
      "cell_type": "code",
      "source": [
        "X = data.iloc[:, :-1].values\n",
        "y = data.iloc[:, -1].values\n"
      ],
      "metadata": {
        "id": "RVBqDHUpUYlW"
      },
      "execution_count": null,
      "outputs": []
    },
    {
      "cell_type": "code",
      "source": [
        "X_train, X_test, y_train, y_test = train_test_split(\n",
        "    X, y, test_size=0.2, random_state=42\n",
        ")\n"
      ],
      "metadata": {
        "id": "4yeahuy2VesR"
      },
      "execution_count": null,
      "outputs": []
    },
    {
      "cell_type": "code",
      "source": [
        "mlp = MLPClassifier(hidden_layer_sizes=(10,10),\n",
        "                    activation='relu',\n",
        "                    solver='adam',\n",
        "                    max_iter=500,\n",
        "                    early_stopping=True,\n",
        "                    validation_fraction=0.1,\n",
        "                    random_state=42)\n"
      ],
      "metadata": {
        "id": "AmUubtP4Vi3l"
      },
      "execution_count": null,
      "outputs": []
    },
    {
      "cell_type": "code",
      "source": [
        "history = mlp.fit(X_train, y_train)\n"
      ],
      "metadata": {
        "id": "xhUZ_wNsVqya"
      },
      "execution_count": null,
      "outputs": []
    },
    {
      "cell_type": "code",
      "source": [
        "y_pred = mlp.predict(X_test)\n"
      ],
      "metadata": {
        "id": "Lsa1oJygVlW8"
      },
      "execution_count": null,
      "outputs": []
    },
    {
      "cell_type": "code",
      "source": [
        "cm = confusion_matrix(y_test, y_pred)\n",
        "acc = accuracy_score(y_test, y_pred)\n",
        "prec = precision_score(y_test, y_pred)\n",
        "rec = recall_score(y_test, y_pred)\n",
        "f1 = f1_score(y_test, y_pred)\n",
        "\n",
        "print(\"Confusion Matrix:\\n\", cm)\n",
        "print(\"Accuracy:\", acc)\n",
        "print(\"Precision:\", prec)\n",
        "print(\"Recall:\", rec)\n",
        "print(\"F1 Score:\", f1)\n"
      ],
      "metadata": {
        "colab": {
          "base_uri": "https://localhost:8080/"
        },
        "id": "n0hmpthJVusD",
        "outputId": "5d2e3a74-2018-4214-e089-b6d0a63c2ea6"
      },
      "execution_count": null,
      "outputs": [
        {
          "output_type": "stream",
          "name": "stdout",
          "text": [
            "Confusion Matrix:\n",
            " [[147   1]\n",
            " [ 26 101]]\n",
            "Accuracy: 0.9018181818181819\n",
            "Precision: 0.9901960784313726\n",
            "Recall: 0.7952755905511811\n",
            "F1 Score: 0.8820960698689956\n"
          ]
        }
      ]
    },
    {
      "cell_type": "code",
      "source": [
        "plt.plot(mlp.loss_curve_)\n",
        "plt.title(\"Training Loss Curve\")\n",
        "plt.xlabel(\"Epochs\")\n",
        "plt.ylabel(\"Loss\")\n",
        "plt.show()\n"
      ],
      "metadata": {
        "colab": {
          "base_uri": "https://localhost:8080/",
          "height": 472
        },
        "id": "TKogjChvV1gh",
        "outputId": "ca81cef7-01ec-4dbb-b3d4-c8c9dc25a23c"
      },
      "execution_count": null,
      "outputs": [
        {
          "output_type": "display_data",
          "data": {
            "text/plain": [
              "<Figure size 640x480 with 1 Axes>"
            ],
            "image/png": "[encoded data removed]"
          },
          "metadata": {}
        }
      ]
    },
    {
      "cell_type": "code",
      "source": [
        "for act in ['tanh', 'logistic', 'identity']:\n",
        "    mlp_alt = MLPClassifier(hidden_layer_sizes=(10,10),\n",
        "                            activation=act,\n",
        "                            solver='adam',\n",
        "                            max_iter=500,\n",
        "                            early_stopping=True,\n",
        "                            validation_fraction=0.1,\n",
        "                            random_state=42)\n",
        "    mlp_alt.fit(X_train, y_train)\n",
        "    y_pred_alt = mlp_alt.predict(X_test)\n",
        "    print(f\"\\nActivation: {act}\")\n",
        "    print(\"Accuracy:\", accuracy_score(y_test, y_pred_alt))\n"
      ],
      "metadata": {
        "colab": {
          "base_uri": "https://localhost:8080/"
        },
        "id": "oUE2SZYGV61k",
        "outputId": "42d15858-0f3a-42d1-d018-783f3c3d7845"
      },
      "execution_count": null,
      "outputs": [
        {
          "output_type": "stream",
          "name": "stdout",
          "text": [
            "\n",
            "Activation: tanh\n",
            "Accuracy: 0.9272727272727272\n",
            "\n",
            "Activation: logistic\n",
            "Accuracy: 0.5381818181818182\n",
            "\n",
            "Activation: identity\n",
            "Accuracy: 0.8909090909090909\n"
          ]
        }
      ]
    }
  ]
}