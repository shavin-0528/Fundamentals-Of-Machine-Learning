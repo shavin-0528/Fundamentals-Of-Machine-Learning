{
 "cells": [
  {
   "cell_type": "code",
   "execution_count": 2,
   "id": "34aba7cb",
   "metadata": {},
   "outputs": [
    {
     "name": "stdout",
     "output_type": "stream",
     "text": [
      "0    10\n",
      "1    20\n",
      "2    30\n",
      "3    40\n",
      "4    50\n",
      "dtype: int64\n"
     ]
    }
   ],
   "source": [
    "import pandas as pd \n",
    "data = [10, 20, 30, 40, 50] \n",
    "series = pd. Series (data) \n",
    "print(series) \n"
   ]
  },
  {
   "cell_type": "code",
   "execution_count": 4,
   "id": "31aa52be",
   "metadata": {},
   "outputs": [
    {
     "name": "stdout",
     "output_type": "stream",
     "text": [
      "x     1\n",
      "y     7\n",
      "z    21\n",
      "dtype: int64\n"
     ]
    }
   ],
   "source": [
    "import pandas as pd \n",
    "a = [1, 7, 21] \n",
    "myvar = pd.Series (a, index = [\"x\", \"y\", \"z\"]) \n",
    "print (myvar)\n"
   ]
  },
  {
   "cell_type": "code",
   "execution_count": 5,
   "id": "0dd2271a",
   "metadata": {},
   "outputs": [
    {
     "name": "stdout",
     "output_type": "stream",
     "text": [
      "series > 25 = \n",
      " 0    False\n",
      "1    False\n",
      "2     True\n",
      "3     True\n",
      "4     True\n",
      "5     True\n",
      "6     True\n",
      "7     True\n",
      "8     True\n",
      "9     True\n",
      "dtype: bool\n",
      "Filtered Series: \n",
      " 2     30\n",
      "3     40\n",
      "4     50\n",
      "5     60\n",
      "6     70\n",
      "7     80\n",
      "8     90\n",
      "9    100\n",
      "dtype: int64\n",
      "\n",
      "Series after Scalar Multiplication: \n",
      " 0     20\n",
      "1     40\n",
      "2     60\n",
      "3     80\n",
      "4    100\n",
      "5    120\n",
      "6    140\n",
      "7    160\n",
      "8    180\n",
      "9    200\n",
      "dtype: int64\n"
     ]
    }
   ],
   "source": [
    "import pandas as pd\n",
    "\n",
    "series = pd.Series([10, 20, 30, 40, 50, 60, 70, 80, 90, 100])\n",
    "\n",
    "gt = series > 25\n",
    "print(\"series > 25 = \\n\", gt)\n",
    "\n",
    "series_filtered = series[series > 25]\n",
    "print(\"Filtered Series: \\n\", series_filtered)\n",
    "\n",
    "series_multiplied = series * 2\n",
    "print(\"\\nSeries after Scalar Multiplication: \\n\", series_multiplied)\n"
   ]
  },
  {
   "cell_type": "code",
   "execution_count": 6,
   "id": "b0e96294",
   "metadata": {},
   "outputs": [
    {
     "name": "stdout",
     "output_type": "stream",
     "text": [
      "series= \n",
      " 0     10\n",
      "1     20\n",
      "2     30\n",
      "3     40\n",
      "4     50\n",
      "5     60\n",
      "6     70\n",
      "7     80\n",
      "8     90\n",
      "9    100\n",
      "dtype: int64\n",
      "\n",
      "Series after Applying Square Root: \n",
      " 0     3.162278\n",
      "1     4.472136\n",
      "2     5.477226\n",
      "3     6.324555\n",
      "4     7.071068\n",
      "5     7.745967\n",
      "6     8.366600\n",
      "7     8.944272\n",
      "8     9.486833\n",
      "9    10.000000\n",
      "dtype: float64\n"
     ]
    }
   ],
   "source": [
    "import numpy as np \n",
    "print(\"series= \\n\",series) \n",
    "series_sqrt = np.sqrt(series) \n",
    "print(\"\\nSeries after Applying Square Root: \\n\", series_sqrt) \n"
   ]
  },
  {
   "cell_type": "code",
   "execution_count": 10,
   "id": "ff356a17",
   "metadata": {},
   "outputs": [
    {
     "name": "stdout",
     "output_type": "stream",
     "text": [
      "   calories  duration\n",
      "0       420        50\n",
      "1       380        40\n",
      "2       390        45\n"
     ]
    }
   ],
   "source": [
    "import pandas as pd \n",
    "data = { \n",
    "\"calories\": [420, 380, 390], \n",
    "\"duration\": [50, 40, 45] } \n",
    "df = pd.DataFrame(data) \n",
    "print(df)"
   ]
  },
  {
   "cell_type": "code",
   "execution_count": 14,
   "id": "9093adc0",
   "metadata": {},
   "outputs": [
    {
     "name": "stdout",
     "output_type": "stream",
     "text": [
      "    state  year  pop\n",
      "0    Ohio  2000  1.5\n",
      "1    Ohio  2001  1.7\n",
      "2    Ohio  2002  3.6\n",
      "3  Nevada  2001  2.4\n",
      "4  Nevada  2002  2.9\n",
      "5  Nevada  2003  3.2\n",
      "   year   state  pop\n",
      "0  2000    Ohio  1.5\n",
      "1  2001    Ohio  1.7\n",
      "2  2002    Ohio  3.6\n",
      "3  2001  Nevada  2.4\n",
      "4  2002  Nevada  2.9\n",
      "5  2003  Nevada  3.2\n",
      "       year   state  pop debt\n",
      "one    2000    Ohio  1.5  NaN\n",
      "two    2001    Ohio  1.7  NaN\n",
      "three  2002    Ohio  3.6  NaN\n",
      "four   2001  Nevada  2.4  NaN\n",
      "five   2002  Nevada  2.9  NaN\n",
      "six    2003  Nevada  3.2  NaN\n",
      "one      2000\n",
      "two      2001\n",
      "three    2002\n",
      "four     2001\n",
      "five     2002\n",
      "six      2003\n",
      "Name: year, dtype: int64\n",
      "\n",
      " one        Ohio\n",
      "two        Ohio\n",
      "three      Ohio\n",
      "four     Nevada\n",
      "five     Nevada\n",
      "six      Nevada\n",
      "Name: state, dtype: object\n",
      "\n",
      " one        Ohio\n",
      "two        Ohio\n",
      "three      Ohio\n",
      "four     Nevada\n",
      "five     Nevada\n",
      "six      Nevada\n",
      "Name: state, dtype: object\n"
     ]
    }
   ],
   "source": [
    "data = {'state': ['Ohio', 'Ohio', 'Ohio', 'Nevada', 'Nevada', 'Nevada'], \n",
    "'year': [2000, 2001, 2002, 2001, 2002, 2003], \n",
    "'pop': [1.5, 1.7, 3.6, 2.4, 2.9, 3.2]} \n",
    "frame = pd.DataFrame(data) \n",
    "print (frame) \n",
    "frame = pd.DataFrame(data, columns=['year', 'state', 'pop']) \n",
    "print(frame)\n",
    "frame2 = pd.DataFrame(data, columns=['year', 'state', 'pop', 'debt'], index=['one', 'two', 'three', 'four', 'five', 'six']) \n",
    "print (frame2)\n",
    "print (frame2 ['year']) \n",
    "print(\"\\n\", frame2['state']) \n",
    "print(\"\\n\", frame2.state) \n",
    "\n",
    "\n"
   ]
  },
  {
   "cell_type": "code",
   "execution_count": 15,
   "id": "ce5e2106",
   "metadata": {},
   "outputs": [
    {
     "name": "stdout",
     "output_type": "stream",
     "text": [
      "       year   state  pop  debt\n",
      "one    2000    Ohio  1.5   0.0\n",
      "two    2001    Ohio  1.7   1.0\n",
      "three  2002    Ohio  3.6   2.0\n",
      "four   2001  Nevada  2.4   3.0\n",
      "five   2002  Nevada  2.9   4.0\n",
      "six    2003  Nevada  3.2   5.0\n"
     ]
    }
   ],
   "source": [
    "import pandas as pd\n",
    "import numpy as np\n",
    "\n",
    "data = {'year': [2000, 2001, 2002, 2001, 2002, 2003],\n",
    "        'state': ['Ohio', 'Ohio', 'Ohio', 'Nevada', 'Nevada', 'Nevada'],\n",
    "        'pop': [1.5, 1.7, 3.6, 2.4, 2.9, 3.2]}\n",
    "\n",
    "frame2 = pd.DataFrame(data, index=['one', 'two', 'three', 'four', 'five', 'six'])\n",
    "frame2['debt'] = np.arange(6.)\n",
    "\n",
    "print(frame2)\n"
   ]
  },
  {
   "cell_type": "code",
   "execution_count": 16,
   "id": "ea617197",
   "metadata": {},
   "outputs": [
    {
     "name": "stdout",
     "output_type": "stream",
     "text": [
      "       year   state  pop  debt\n",
      "one    2000    Ohio  1.5   NaN\n",
      "two    2001    Ohio  1.7  -1.2\n",
      "three  2002    Ohio  3.6   NaN\n",
      "four   2001  Nevada  2.4  -1.5\n",
      "five   2002  Nevada  2.9  -1.7\n",
      "six    2003  Nevada  3.2   NaN\n",
      "       year   state  pop  debt  eastern\n",
      "one    2000    Ohio  1.5   NaN     True\n",
      "two    2001    Ohio  1.7  -1.2     True\n",
      "three  2002    Ohio  3.6   NaN     True\n",
      "four   2001  Nevada  2.4  -1.5    False\n",
      "five   2002  Nevada  2.9  -1.7    False\n",
      "six    2003  Nevada  3.2   NaN    False\n",
      "       year   state  pop  debt\n",
      "one    2000    Ohio  1.5   NaN\n",
      "two    2001    Ohio  1.7  -1.2\n",
      "three  2002    Ohio  3.6   NaN\n",
      "four   2001  Nevada  2.4  -1.5\n",
      "five   2002  Nevada  2.9  -1.7\n",
      "six    2003  Nevada  3.2   NaN\n"
     ]
    }
   ],
   "source": [
    "import pandas as pd\n",
    "\n",
    "data = {'year': [2000, 2001, 2002, 2001, 2002, 2003],\n",
    "        'state': ['Ohio', 'Ohio', 'Ohio', 'Nevada', 'Nevada', 'Nevada'],\n",
    "        'pop': [1.5, 1.7, 3.6, 2.4, 2.9, 3.2]}\n",
    "\n",
    "frame2 = pd.DataFrame(data, index=['one', 'two', 'three', 'four', 'five', 'six'])\n",
    "\n",
    "val = pd.Series([-1.2, -1.5, -1.7], index=['two', 'four', 'five'])\n",
    "frame2['debt'] = val\n",
    "print(frame2)\n",
    "\n",
    "frame2['eastern'] = frame2.state == 'Ohio'\n",
    "print(frame2)\n",
    "\n",
    "del frame2['eastern']\n",
    "print(frame2)\n"
   ]
  },
  {
   "cell_type": "code",
   "execution_count": 17,
   "id": "4db18eb2",
   "metadata": {},
   "outputs": [
    {
     "name": "stdout",
     "output_type": "stream",
     "text": [
      "        one   two three    four    five     six\n",
      "year   2000  2001  2002    2001    2002    2003\n",
      "state  Ohio  Ohio  Ohio  Nevada  Nevada  Nevada\n",
      "pop     1.5   1.7   3.6     2.4     2.9     3.2\n",
      "debt    NaN  -1.2   NaN    -1.5    -1.7     NaN\n"
     ]
    }
   ],
   "source": [
    "import pandas as pd\n",
    "\n",
    "data = {'year': [2000, 2001, 2002, 2001, 2002, 2003],\n",
    "        'state': ['Ohio', 'Ohio', 'Ohio', 'Nevada', 'Nevada', 'Nevada'],\n",
    "        'pop': [1.5, 1.7, 3.6, 2.4, 2.9, 3.2]}\n",
    "\n",
    "frame2 = pd.DataFrame(data, index=['one', 'two', 'three', 'four', 'five', 'six'])\n",
    "\n",
    "val = pd.Series([-1.2, -1.5, -1.7], index=['two', 'four', 'five'])\n",
    "frame2['debt'] = val\n",
    "\n",
    "print(frame2.T)\n"
   ]
  },
  {
   "cell_type": "code",
   "execution_count": 18,
   "id": "3883d715",
   "metadata": {},
   "outputs": [
    {
     "name": "stdout",
     "output_type": "stream",
     "text": [
      "d    4.5\n",
      "b    7.2\n",
      "a   -5.3\n",
      "c    3.6\n",
      "dtype: float64\n",
      "a   -5.3\n",
      "b    7.2\n",
      "c    3.6\n",
      "d    4.5\n",
      "e    NaN\n",
      "dtype: float64\n"
     ]
    }
   ],
   "source": [
    "import pandas as pd\n",
    "\n",
    "obj = pd.Series([4.5, 7.2, -5.3, 3.6], index=['d', 'b', 'a', 'c'])\n",
    "print(obj)\n",
    "\n",
    "obj2 = obj.reindex(['a', 'b', 'c', 'd', 'e'])\n",
    "print(obj2)\n"
   ]
  },
  {
   "cell_type": "code",
   "execution_count": 19,
   "id": "fff1d852",
   "metadata": {},
   "outputs": [
    {
     "name": "stdout",
     "output_type": "stream",
     "text": [
      "0      blue\n",
      "2    purple\n",
      "4    yellow\n",
      "dtype: object\n",
      "\n",
      "Method 'ffill':\n",
      "0      blue\n",
      "1      blue\n",
      "2    purple\n",
      "3    purple\n",
      "4    yellow\n",
      "5    yellow\n",
      "dtype: object\n",
      "\n",
      "Method 'bfill':\n",
      "0      blue\n",
      "1    purple\n",
      "2    purple\n",
      "3    yellow\n",
      "4    yellow\n",
      "5       NaN\n",
      "dtype: object\n",
      "\n",
      "Fill value:\n",
      "0      blue\n",
      "1       red\n",
      "2    purple\n",
      "3       red\n",
      "4    yellow\n",
      "5       red\n",
      "dtype: object\n",
      "\n",
      "Limit:\n",
      "0    1.0\n",
      "1    1.0\n",
      "2    2.0\n",
      "3    2.0\n",
      "4    NaN\n",
      "5    3.0\n",
      "6    3.0\n",
      "dtype: float64\n"
     ]
    }
   ],
   "source": [
    "import pandas as pd\n",
    "\n",
    "obj3 = pd.Series(['blue', 'purple', 'yellow'], index=[0, 2, 4])\n",
    "print(obj3)\n",
    "\n",
    "obj4 = obj3.reindex(range(6), method='ffill')\n",
    "print(\"\\nMethod 'ffill':\")\n",
    "print(obj4)\n",
    "\n",
    "obj5 = obj3.reindex(range(6), method='bfill')\n",
    "print(\"\\nMethod 'bfill':\")\n",
    "print(obj5)\n",
    "\n",
    "obj6 = obj3.reindex(range(6), fill_value='red')\n",
    "print(\"\\nFill value:\")\n",
    "print(obj6)\n",
    "\n",
    "obj7 = pd.Series([1, 2, 3], index=[0, 2, 5])\n",
    "obj8 = obj7.reindex(range(7), method='ffill', limit=1)\n",
    "print(\"\\nLimit:\")\n",
    "print(obj8)\n"
   ]
  },
  {
   "cell_type": "code",
   "execution_count": 20,
   "id": "78246ec0",
   "metadata": {},
   "outputs": [
    {
     "name": "stdout",
     "output_type": "stream",
     "text": [
      "a    0.0\n",
      "b    1.0\n",
      "d    3.0\n",
      "e    4.0\n",
      "dtype: float64\n",
      "a    0.0\n",
      "b    1.0\n",
      "e    4.0\n",
      "dtype: float64\n",
      "          one  two  three  four\n",
      "Ohio        0    1      2     3\n",
      "Dallas      4    5      6     7\n",
      "NJ          8    9     10    11\n",
      "New York   12   13     14    15\n",
      "          one  two  three  four\n",
      "Dallas      4    5      6     7\n",
      "New York   12   13     14    15\n"
     ]
    }
   ],
   "source": [
    "import pandas as pd\n",
    "import numpy as np\n",
    "\n",
    "obj = pd.Series(np.arange(5.), index=['a', 'b', 'c', 'd', 'e'])\n",
    "new_obj = obj.drop('c')\n",
    "print(new_obj)\n",
    "\n",
    "print(obj.drop(['d', 'c']))\n",
    "\n",
    "data = pd.DataFrame(np.arange(16).reshape((4, 4)),\n",
    "                    index=['Ohio', 'Dallas', 'NJ', 'New York'],\n",
    "                    columns=['one', 'two', 'three', 'four'])\n",
    "print(data)\n",
    "\n",
    "print(data.drop(['NJ', 'Ohio']))\n"
   ]
  },
  {
   "cell_type": "code",
   "execution_count": 21,
   "id": "985a0fde",
   "metadata": {},
   "outputs": [
    {
     "name": "stdout",
     "output_type": "stream",
     "text": [
      "a    0.0\n",
      "b    1.0\n",
      "c    2.0\n",
      "d    3.0\n",
      "e    4.0\n",
      "dtype: float64\n",
      "a    0.0\n",
      "b    1.0\n",
      "d    3.0\n",
      "e    4.0\n",
      "dtype: float64\n",
      "a    0.0\n",
      "b    1.0\n",
      "e    4.0\n",
      "dtype: float64\n",
      "          one  two  three  four\n",
      "Ohio        0    1      2     3\n",
      "Dallas      4    5      6     7\n",
      "NJ          8    9     10    11\n",
      "New York   12   13     14    15\n",
      "          one  two  three  four\n",
      "Dallas      4    5      6     7\n",
      "New York   12   13     14    15\n",
      "          one  three\n",
      "Ohio        0      2\n",
      "Dallas      4      6\n",
      "NJ          8     10\n",
      "New York   12     14\n",
      "\"['z'] not found in axis\"\n"
     ]
    }
   ],
   "source": [
    "import pandas as pd\n",
    "import numpy as np\n",
    "\n",
    "obj = pd.Series(np.arange(5.), index=['a', 'b', 'c', 'd', 'e'])\n",
    "print(obj)\n",
    "\n",
    "new_obj = obj.drop('c')\n",
    "print(new_obj)\n",
    "\n",
    "print(obj.drop(['d', 'c']))\n",
    "\n",
    "data = pd.DataFrame(np.arange(16).reshape((4, 4)),\n",
    "                    index=['Ohio', 'Dallas', 'NJ', 'New York'],\n",
    "                    columns=['one', 'two', 'three', 'four'])\n",
    "print(data)\n",
    "\n",
    "print(data.drop(['NJ', 'Ohio']))\n",
    "\n",
    "print(data.drop(['two', 'four'], axis=1))\n",
    "\n",
    "try:\n",
    "    obj.drop('z')\n",
    "except KeyError as e:\n",
    "    print(e)\n"
   ]
  },
  {
   "cell_type": "code",
   "execution_count": 22,
   "id": "e8025253",
   "metadata": {},
   "outputs": [
    {
     "name": "stdout",
     "output_type": "stream",
     "text": [
      "df1:\n",
      "    A  B\n",
      "0  1  4\n",
      "1  2  5\n",
      "2  3  6\n",
      "df2:\n",
      "    A   B\n",
      "0  7  10\n",
      "1  8  11\n",
      "2  9  12\n",
      "Addition:\n",
      "     A   B\n",
      "0   8  14\n",
      "1  10  16\n",
      "2  12  18\n",
      "\n",
      "Subtraction:\n",
      "    A  B\n",
      "0 -6 -6\n",
      "1 -6 -6\n",
      "2 -6 -6\n",
      "\n",
      "Multiplication:\n",
      "     A   B\n",
      "0   7  40\n",
      "1  16  55\n",
      "2  27  72\n",
      "\n",
      "Division:\n",
      "           A         B\n",
      "0  0.142857  0.400000\n",
      "1  0.250000  0.454545\n",
      "2  0.333333  0.500000\n",
      "\n",
      "df3:\n",
      "    A  B\n",
      "0  1  4\n",
      "1  2  5\n",
      "2  3  6\n",
      "df4:\n",
      "    B   C\n",
      "1  7  10\n",
      "2  8  11\n",
      "3  9  12\n",
      "\n",
      "Result of df3 + df4 with alignment:\n",
      "     A     B   C\n",
      "0 NaN   NaN NaN\n",
      "1 NaN  12.0 NaN\n",
      "2 NaN  14.0 NaN\n",
      "3 NaN   NaN NaN\n"
     ]
    }
   ],
   "source": [
    "import pandas as pd\n",
    "\n",
    "df1 = pd.DataFrame({'A': [1, 2, 3], 'B': [4, 5, 6]})\n",
    "df2 = pd.DataFrame({'A': [7, 8, 9], 'B': [10, 11, 12]})\n",
    "\n",
    "print(\"df1:\\n\", df1)\n",
    "print(\"df2:\\n\", df2)\n",
    "\n",
    "print(\"Addition:\\n\", df1 + df2)\n",
    "print(\"\\nSubtraction:\\n\", df1 - df2)\n",
    "print(\"\\nMultiplication:\\n\", df1 * df2)\n",
    "print(\"\\nDivision:\\n\", df1 / df2)\n",
    "\n",
    "df3 = pd.DataFrame({'A': [1, 2, 3], 'B': [4, 5, 6]}, index=[0, 1, 2])\n",
    "df4 = pd.DataFrame({'B': [7, 8, 9], 'C': [10, 11, 12]}, index=[1, 2, 3])\n",
    "\n",
    "print(\"\\ndf3:\\n\", df3)\n",
    "print(\"df4:\\n\", df4)\n",
    "\n",
    "result = df3 + df4\n",
    "print(\"\\nResult of df3 + df4 with alignment:\\n\", result)\n"
   ]
  },
  {
   "cell_type": "code",
   "execution_count": 23,
   "id": "b77b39dd",
   "metadata": {},
   "outputs": [
    {
     "name": "stdout",
     "output_type": "stream",
     "text": [
      "a    1\n",
      "b    2\n",
      "c    3\n",
      "d    0\n",
      "dtype: int64\n",
      "I \n",
      "        d  a  b  c\n",
      "one    4  5  6  7\n",
      "three  0  1  2  3\n",
      "II \n",
      "        a  b  c  d\n",
      "three  1  2  3  0\n",
      "one    5  6  7  4\n",
      "III \n",
      "        d  c  b  a\n",
      "three  0  3  2  1\n",
      "one    4  7  6  5\n",
      "IV \n",
      "        d  a  b  c\n",
      "three  0  1  2  3\n",
      "one    4  5  6  7\n"
     ]
    }
   ],
   "source": [
    "import pandas as pd\n",
    "import numpy as np\n",
    "\n",
    "obj = pd.Series(range(4), index=['d', 'a', 'b', 'c'])\n",
    "df_sort_series = obj.sort_index()\n",
    "print(df_sort_series)\n",
    "\n",
    "frame = pd.DataFrame(np.arange(8).reshape((2, 4)),\n",
    "                     index=['three', 'one'],\n",
    "                     columns=['d', 'a', 'b', 'c'])\n",
    "\n",
    "df_sort_dataframe = frame.sort_index()\n",
    "print(\"I \\n\", df_sort_dataframe)\n",
    "\n",
    "df_sort_dataframe_axis1 = frame.sort_index(axis=1)\n",
    "print(\"II \\n\", df_sort_dataframe_axis1)\n",
    "\n",
    "df_sort_dataframe_ascending = frame.sort_index(axis=1, ascending=False)\n",
    "print(\"III \\n\", df_sort_dataframe_ascending)\n",
    "\n",
    "df_sort_values_by_column = frame.sort_values(by='b')\n",
    "print(\"IV \\n\", df_sort_values_by_column)\n"
   ]
  },
  {
   "cell_type": "code",
   "execution_count": 24,
   "id": "50c691cf",
   "metadata": {},
   "outputs": [
    {
     "name": "stdout",
     "output_type": "stream",
     "text": [
      "Rank \n",
      " 0    5.5\n",
      "1    1.0\n",
      "2    5.5\n",
      "3    4.0\n",
      "4    3.0\n",
      "5    2.0\n",
      "6    7.0\n",
      "dtype: float64\n",
      "\n",
      "Rank - Method='first' \n",
      " 0    5.0\n",
      "1    1.0\n",
      "2    6.0\n",
      "3    4.0\n",
      "4    3.0\n",
      "5    2.0\n",
      "6    7.0\n",
      "dtype: float64\n",
      "\n",
      "Rank - Method='max', descending order \n",
      " 0    3.0\n",
      "1    7.0\n",
      "2    3.0\n",
      "3    4.0\n",
      "4    5.0\n",
      "5    6.0\n",
      "6    1.0\n",
      "dtype: float64\n",
      "\n",
      "Original DataFrame:\n",
      "      b   a    c\n",
      "0  4.3   0 -2.0\n",
      "1  7.0   1  5.0\n",
      "2 -3.0   0  8.0\n",
      "3  2.0  11 -2.5\n",
      "\n",
      "Rank over columns:\n",
      "      b    a    c\n",
      "0  3.0  2.0  1.0\n",
      "1  3.0  1.0  2.0\n",
      "2  1.0  2.0  3.0\n",
      "3  2.0  3.0  1.0\n"
     ]
    }
   ],
   "source": [
    "import pandas as pd\n",
    "\n",
    "obj = pd.Series([7, -5, 7, 3, 2, 0, 41])\n",
    "df_rank = obj.rank()\n",
    "print(\"Rank \\n\", df_rank)\n",
    "\n",
    "df_rank_method_first = obj.rank(method='first')\n",
    "print(\"\\nRank - Method='first' \\n\", df_rank_method_first)\n",
    "\n",
    "df_rank_descending = obj.rank(ascending=False, method='max')\n",
    "print(\"\\nRank - Method='max', descending order \\n\", df_rank_descending)\n",
    "\n",
    "frame = pd.DataFrame({\n",
    "    'b': [4.3, 7, -3, 2],\n",
    "    'a': [0, 1, 0, 11],\n",
    "    'c': [-2, 5, 8, -2.5]\n",
    "})\n",
    "print(\"\\nOriginal DataFrame:\\n\", frame)\n",
    "\n",
    "df_rank_dataframe = frame.rank(axis='columns')\n",
    "print(\"\\nRank over columns:\\n\", df_rank_dataframe)\n"
   ]
  },
  {
   "cell_type": "code",
   "execution_count": null,
   "id": "8f204bf0",
   "metadata": {},
   "outputs": [],
   "source": []
  }
 ],
 "metadata": {
  "kernelspec": {
   "display_name": "Python 3 (ipykernel)",
   "language": "python",
   "name": "python3"
  },
  "language_info": {
   "codemirror_mode": {
    "name": "ipython",
    "version": 3
   },
   "file_extension": ".py",
   "mimetype": "text/x-python",
   "name": "python",
   "nbconvert_exporter": "python",
   "pygments_lexer": "ipython3",
   "version": "3.9.12"
  }
 },
 "nbformat": 4,
 "nbformat_minor": 5
}
